{
 "cells": [
  {
   "cell_type": "markdown",
   "id": "cb7b0d4a-3c23-45f7-a911-8d879f2afba3",
   "metadata": {
    "id": "6a728deb-28da-4064-8e66-bef416022207",
    "jp-MarkdownHeadingCollapsed": true
   },
   "source": [
    "## Neo4j Graph Agent Setup\n",
    "\n",
    "This notebook demonstrates how to set up and use multiple Neo4j instances in Docker, integrate them with Llama Index for knowledge graph construction, and build custom retrievers and agents. It covers steps for installing dependencies, configuring Neo4j containers, downloading the necessary APOC plugin, and creating agents that interact with the knowledge graph. The agents are designed to perform comparative analysis on documents or articles using Neo4j as the underlying data store.\n"
   ]
  },
  {
   "cell_type": "markdown",
   "id": "e8db8ac2-5221-44de-a53e-cb5ab37ac8f5",
   "metadata": {
    "id": "e8db8ac2-5221-44de-a53e-cb5ab37ac8f5"
   },
   "source": [
    "## Setup (Installs, Data, Models)"
   ]
  },
  {
   "cell_type": "code",
   "execution_count": 1,
   "id": "989d1cb5-5464-4d9d-ac1e-6e16276d3698",
   "metadata": {
    "colab": {
     "base_uri": "https://localhost:8080/"
    },
    "id": "989d1cb5-5464-4d9d-ac1e-6e16276d3698",
    "outputId": "c584801e-f0cb-4ece-e120-9ffa638060d1"
   },
   "outputs": [],
   "source": [
    "# !pip install llama-index\n",
    "# !pip install llama-index-core==0.10.42\n",
    "# !pip install llama-index-embeddings-openai\n",
    "# !pip install llama-index-postprocessor-flag-embedding-reranker\n",
    "# !pip install git+https://github.com/FlagOpen/FlagEmbedding.git\n",
    "# !pip install llama-index-graph-stores-neo4j\n",
    "# !pip install llama-parse\n"
   ]
  },
  {
   "cell_type": "markdown",
   "id": "b86a0e7b-bc15-45ed-b1f7-b4c82d16b815",
   "metadata": {
    "id": "b86a0e7b-bc15-45ed-b1f7-b4c82d16b815"
   },
   "source": [
    "# How to Create Multiple Neo4j Instances in Docker\n",
    "\n",
    "## Correct Setup Process:\n",
    "\n",
    "### 1. Stop all running containers:\n",
    "Before creating a new Neo4j container, make sure to stop any previously running containers.\n",
    "\n",
    "### 2. Create a new Neo4j container:\n",
    "You can create a new Neo4j instance by specifying unique volume and port numbers for each container.\n",
    "\n",
    "Example command to run a new container (neo4j_new_volume_4):\n",
    "```bash\n",
    "docker run -d -p 7477:7474 -p 7690:7687 --name neo4j_4 -e NEO4J_AUTH=neo4j/Yuanzhoulv314! -e NEO4J_apoc_export_file_enabled=true -e NEO4J_apoc_import_file_enabled=true -e NEO4J_apoc_import_file_use__neo4j__config=true -e NEO4J_PLUGINS='[\"apoc\"]' -v neo4j_new_volume_4:/var/lib/neo4j neo4j:5.26.1\n",
    "```\n",
    "\n",
    "**Explanation:**\n",
    "- `-p 7477:7474 -p 7690:7687`: Maps the host ports to the container ports (adjust as necessary).\n",
    "- `--name neo4j_4`: Names the container (you can give it any name).\n",
    "- `-v neo4j_new_volume_4:/var/lib/neo4j`: Attaches a new volume for persistent data storage.\n",
    "- `NEO4J_AUTH`: Sets the Neo4j password.\n",
    "\n",
    "### 3. Access the Neo4j container:\n",
    "Run the following command to access the container's bash shell:\n",
    "```bash\n",
    "docker exec -it neo4j_4 bash\n",
    "```\n",
    "\n",
    "### 4. Download the APOC plugin:\n",
    "Inside the container, create the plugin directory:\n",
    "```bash\n",
    "mkdir plugins\n",
    "```\n",
    "\n",
    "Navigate to the plugins directory:\n",
    "```bash\n",
    "pushd plugins\n",
    "```\n",
    "\n",
    "Download the APOC plugin:\n",
    "```bash\n",
    "wget https://github.com/neo4j/apoc/releases/download/5.26.1/apoc-5.26.1-core.jar\n",
    "```\n",
    "\n",
    "### 5. Edit the neo4j.conf file:\n",
    "Navigate to the Neo4j configuration directory:\n",
    "```bash\n",
    "cd /var/lib/neo4j/conf\n",
    "```\n",
    "\n",
    "Edit the neo4j.conf file:\n",
    "```bash\n",
    "nano neo4j.conf\n",
    "```\n",
    "\n",
    "Modify the following lines in the configuration file:\n",
    "- Line 242: `dbms.security.procedures.unrestricted=algo.*,apoc.*`\n",
    "- Line 246: `dbms.security.procedures.allowlist=algo.*,apoc.*`\n",
    "\n",
    "Save the changes and exit the editor.\n",
    "\n",
    "### 6. Restart the container:\n",
    "After making the changes, restart the container to apply the new configuration.\n",
    "\n",
    "### 7. Test the installation:\n",
    "Open Neo4j Browser and run the following query to check if APOC is installed:\n",
    "```cypher\n",
    "RETURN apoc.version()\n",
    "```\n",
    "\n",
    "If you see the APOC version, it means the plugin has been successfully installed.\n",
    "\n",
    "### 8. Verify the new database:\n",
    "To confirm the database is created, you can run the following query:\n",
    "```cypher\n",
    "MATCH (n) RETURN n;\n",
    "```\n",
    "\n",
    "If the database is empty, you should not see any results."
   ]
  },
  {
   "cell_type": "markdown",
   "id": "e60fa607-8459-4f3f-b4d0-c3cf38b367f5",
   "metadata": {},
   "source": [
    "# Main part\n"
   ]
  },
  {
   "cell_type": "code",
   "execution_count": 5,
   "id": "e25ed865-b78e-4856-9473-7123d9924d46",
   "metadata": {
    "id": "e25ed865-b78e-4856-9473-7123d9924d46"
   },
   "outputs": [],
   "source": [
    "from llama_index.graph_stores.neo4j import Neo4jPGStore\n",
    "password = input(\"Please enter your password for Neo4j: \")\n",
    "graph_store1 = Neo4jPGStore(\n",
    "    username=\"neo4j\",\n",
    "    password=password,\n",
    "    url=\"bolt://localhost:7687\",\n",
    ")\n",
    "vec_store = None\n"
   ]
  },
  {
   "cell_type": "code",
   "execution_count": 6,
   "id": "4ecc6ad5-8757-4f4e-8caf-7759090c08db",
   "metadata": {},
   "outputs": [],
   "source": [
    "from llama_index.graph_stores.neo4j import Neo4jPGStore\n",
    "password = input(\"Please enter your password for Neo4j: \")\n",
    "graph_store2 = Neo4jPGStore(\n",
    "    username=\"neo4j\",\n",
    "    password=password,\n",
    "    url=\"bolt://localhost:7688\",\n",
    ")\n",
    "vec_store = None\n"
   ]
  },
  {
   "cell_type": "markdown",
   "id": "10723825-328f-4175-ad85-637b0c28262c",
   "metadata": {
    "id": "10723825-328f-4175-ad85-637b0c28262c"
   },
   "source": [
    "## Construct Knowledge Graph, Get Retrievers\n",
    "\n",
    "This section shows you how to construct the knowledge graph over the existing documents.\n",
    "\n",
    "**Note**: we have the default extractors (implicit path, simple llm path) configured. You can also choose to use a pre-defined schema as mentioned in this [notebook](https://github.com/run-llama/llama_index/blob/main/docs/docs/examples/property_graph/property_graph_advanced.ipynb)."
   ]
  },
  {
   "cell_type": "code",
   "execution_count": 8,
   "id": "6b3d81c4-95a8-409b-a448-ac18e193effc",
   "metadata": {
    "id": "6b3d81c4-95a8-409b-a448-ac18e193effc"
   },
   "outputs": [],
   "source": [
    "from llama_index.core.indices.property_graph import (\n",
    "    ImplicitPathExtractor,\n",
    "    SimpleLLMPathExtractor,\n",
    ")\n",
    "from llama_index.core import PropertyGraphIndex\n",
    "from llama_index.llms.openai import OpenAI\n",
    "from llama_index.embeddings.openai import OpenAIEmbedding"
   ]
  },
  {
   "cell_type": "code",
   "execution_count": 12,
   "id": "ffc29e45-89c1-48cf-b221-c4e117cda630",
   "metadata": {
    "id": "ffc29e45-89c1-48cf-b221-c4e117cda630",
    "outputId": "9864e463-62a0-492d-da80-1567d0679d37"
   },
   "outputs": [],
   "source": [
    "\n",
    "index1 = PropertyGraphIndex.from_existing(\n",
    "    graph_store1,\n",
    "    embed_model=OpenAIEmbedding(model_name=\"text-embedding-3-small\"),\n",
    "    kg_extractors=[\n",
    "        ImplicitPathExtractor(),\n",
    "        SimpleLLMPathExtractor(\n",
    "            llm=OpenAI(model=\"gpt-3.5-turbo\", temperature=0.3),\n",
    "            num_workers=4,\n",
    "            max_paths_per_chunk=10,\n",
    "        ),\n",
    "    ],\n",
    "    show_progress=True,\n",
    ")\n"
   ]
  },
  {
   "cell_type": "code",
   "execution_count": 10,
   "id": "6560566b-6eed-4ec8-93f8-3fc67fc59339",
   "metadata": {},
   "outputs": [],
   "source": [
    "\n",
    "index2 = PropertyGraphIndex.from_existing(\n",
    "    graph_store2,\n",
    "    embed_model=OpenAIEmbedding(model_name=\"text-embedding-3-small\"),\n",
    "    kg_extractors=[\n",
    "        ImplicitPathExtractor(),\n",
    "        SimpleLLMPathExtractor(\n",
    "            llm=OpenAI(model=\"gpt-3.5-turbo\", temperature=0.3),\n",
    "            num_workers=4,\n",
    "            max_paths_per_chunk=10,\n",
    "        ),\n",
    "    ],\n",
    "    show_progress=True,\n",
    ")"
   ]
  },
  {
   "cell_type": "markdown",
   "id": "2329bf60-07fb-4333-a78b-80d04344dfb3",
   "metadata": {},
   "source": [
    "#### Define Vector Retriever\n",
    "\n",
    "Here we define our vector context retriever - it returns initial nodes via vector search, and traverses the relations to pull in more nodes/context.\n"
   ]
  },
  {
   "cell_type": "code",
   "execution_count": 14,
   "id": "3d4d4ce1-64df-41cd-9f36-49c779fdc2b3",
   "metadata": {
    "id": "3d4d4ce1-64df-41cd-9f36-49c779fdc2b3"
   },
   "outputs": [],
   "source": [
    "from llama_index.core.indices.property_graph import VectorContextRetriever\n",
    "\n",
    "kg_retriever1 = VectorContextRetriever(\n",
    "    index1.property_graph_store,\n",
    "    embed_model=OpenAIEmbedding(model_name=\"text-embedding-3-small\"),\n",
    "    similarity_top_k=2,\n",
    "    path_depth=1,\n",
    "    # include_text=False,\n",
    "    include_text=True,\n",
    ")"
   ]
  },
  {
   "cell_type": "code",
   "execution_count": 18,
   "id": "ca3cd98b-1556-4ae7-8a24-519adb48beb6",
   "metadata": {
    "id": "ca3cd98b-1556-4ae7-8a24-519adb48beb6",
    "outputId": "c6fb6fed-3de2-4eb5-e1b6-91649d4094d7"
   },
   "outputs": [
    {
     "name": "stdout",
     "output_type": "stream",
     "text": [
      "1\n",
      ">> IDX: 0, Here are some facts extracted from the provided text:\n",
      "\n",
      "Aconex -> Is -> Informational document\n",
      "Aconex -> Is -> An informational document\n",
      "\n",
      "DIVISION OF ENGINEERING SERVICES ‑ GEOTECHNICAL SERVICES                                                                                                                                                                                                                                                                                                                                                                                                                                                                                                                                                                                                                                                                                                                                                                                                                                                                                                                                                                                                                                   Aconex#: PI405-RPT-GEO-000070\n",
      "                                                As‑Built Log of Test Borings sheet is considered an informational document only.\n",
      "                                                As such, the State of California registration seal with signature, license number\n",
      "                                                and registration certificate expiration date confirm that this is a true and\n",
      "                                                accurate copy of the original document. This drawing is available and presented                                                                                                                                                                                             PROF                                                                                                                                                                                                                                                                                                                                                                                                        ESSIONAL                                                                                                                                                                                                                                                                                                                                              Sm\n",
      "                                                only for the convenience of any bidder, contractor or other interested party.\n",
      "                                                DIST. COUNTY ROUTE                                                                             POST MILES‑TOTAL PROJECT                                                                Sheet Total\n",
      "                                                                                                                                                                                                                                        No.                   Sheets                                     ITEREDJERKO KOCIJAN\n",
      "                                                                                                                                                                                                                                                                                                          S                                                                  ENGINEE                                                                                                           A                                                                                                                                                                                                                                                                                                                                                                               Caltrans;                                                                                              Dr=                                    405                                   16-4K200                            599\"                                                                                                                                                                                                                                                                                                                                                                                        2                                                                                                                                                                             Gzr8                                                                                                       651\n",
      "                                               12,7                                                                                                                                                                                                                                                                                                                                                                Ora,LA                                                                                                                                                                         22,73 R27.2/R27.8, 9.3/24.2                                                                                                                                                                                                                            R0.5/R0.7, R0.7/R3.8                                                                                                                                                                                                                                                                                                                                                                                                                                                                                                                                                                                                               etric\n",
      "                                                                                                             405,605                                                                                                                                                                                                                                                                                                              0.0/1.2, 3.5/R1.6, R0.0/R1.2                                                                                                                                                                                                                                                                                                                       GENo.                                                                                                                                                                                                                                                                                                                                      71747                                                                                                           R                                                                                                                                                                                                                                                                                                                                                                           Rev. 003; 20190308\n",
      "                                                                                                                                                                                                                                                                                                          R                                                                                                                                                                                                                                                                                                                                                                 B-143\n",
      "                                                                                                                                                                                                                                     02‑21‑19                                                                        Exp.12/31/19\n",
      "                                             REGISTERED CIVIL ENGINEER                                                                                                                                                                     DATE                                                                 STATEOFCLIFORNIA                                                                                                                                                                                                                                                                                                                                                                                                        CIVIL\n",
      "                                                                                          HARBOR BLVD SB ON‑RAMP UC\n",
      "                                                                                                                                                                                                                                                                                                                                               A                                                                                                                Abut                                                                                                  fent                                                                                                                  2001 T                                                                                                                                                                                                                                                                                                                                                                                                         L\n",
      "                                                   LOG OF TEST BORINGS ‑ SHEET 6 of 7                                                                                                                                                                                                                                                                                                                                                                                                                                                                                                                                                                                                                                                                                                                                                                                                                                                                                            ~to Qo\n",
      "                                          NOTE: A COPY OF THIS LOG OF TEST BORINGS IS\n",
      "                                                AVAILABLE AT OFFICE OF STRUCTURE MAINTENANCE UNIT:                                                                                                                                       4225                                                                                                                                                                                                                                                                                                                                                                                                                                                                                                                                                                                                                                                                                                                 Pea                                                                                                                                   4  EL\n",
      "                                                AND INVESTIGATIONS, SACRAMENTO, CALIFORNIA                                                                               PROJECT NUMBER & PHASE:12‑OH1004\n",
      "                                                                                                                                                                                                       BRIDGE No.Sheet                                                                                                                                                                                                                                                                                                                                                                                                                                                                                                                                                                                                                               of                                                                                                                                                                                                                                                                                                                                                   B-141                                                                                                                                       53 Z00                                                                                                                                                                           NB 405 Harbor] Bra Un -                                                                                                                                 EARTH                                                                        AECHANICS, ING\n",
      "                                        Revisions made to this Log of Test Borings from\n",
      "                                        the original ____ Log of Test Borings are the                                                                                                                     55‑0257K                            46                    47                                                                                                                                                                                                                                                                                                                                                                                                                                                                                                                                                                                                                                                                                      EQUNTAI {EwKOPE ST_\n",
      "                                                                                                                                                                                                                                                                                                                                                                                                                                                                                                                                                                                                                                                                                                                                                                                                                                                                                                                                                                               17660                                                              CA SuitE\n",
      "                                        addition of the following table and notes:                                                                                                                                                                                                                                                                                                                                                                                                                                                                                                                                                                                                                                                                                                                                                                                                                                                                                                         N VALLEY                                                                92708\n",
      "                                               Boring\n",
      "                                                                                          Station                                  Offset from C/L I‑405                                                                                         PLAN                                                                                                                                                                                                                                                                                                           742                                                                                                                                                   Abut                                                                           NQIES                                                                                                                                                                                 Han;                                                                                    0\n",
      "                                                                                                                                                                                                                                                        1                    400                                                                                                                                                                                                                                                                                                                                                                                                                                                                                                  62                mn                            omples:                             7ere token 'using 0                                                                                                                                                                                                                                                                                                                                                                                                                                                                     and an i \"nio Spl barrei somnpler\n",
      "                                                                                                                                                                                                                                                                                                                  DMSON OF ENG INEERING SERVICES                                                                                                                         GEOTE CHNCASERMCES                                                                    5                                             1                                                                                                                                                                                                                                                                                                                                                                                                                                                                                                                                                                                         3                                                                                                                                                                                                                                                               inside dimeter: {L,\n",
      "                                                                                                                                                                                                                                                                                                                                                                                                                                                                                                                                                                                                                                                                                                                                                                                   To              conve                                   Coliforaip                                                                                                                                                                                                                                                                                                                                                                                                                                       D.)\n"
     ]
    }
   ],
   "source": [
    "nodes1 = kg_retriever1.retrieve(\n",
    "    \"Name of Article\"\n",
    ")\n",
    "# nodes = kg_retriever.retrieve('san francisco')\n",
    "print(len(nodes1))\n",
    "for idx, node in enumerate(nodes1):\n",
    "    print(f\">> IDX: {idx}, {node.get_content()}\")"
   ]
  },
  {
   "cell_type": "code",
   "execution_count": 20,
   "id": "72fb86bb-94f4-43e8-8f9a-a42b8d9ce42b",
   "metadata": {},
   "outputs": [],
   "source": [
    "from llama_index.core.indices.property_graph import VectorContextRetriever\n",
    "\n",
    "kg_retriever2 = VectorContextRetriever(\n",
    "    index2.property_graph_store,\n",
    "    embed_model=OpenAIEmbedding(model_name=\"text-embedding-3-small\"),\n",
    "    similarity_top_k=2,\n",
    "    path_depth=1,\n",
    "    # include_text=False,\n",
    "    include_text=True,\n",
    ")"
   ]
  },
  {
   "cell_type": "code",
   "execution_count": 23,
   "id": "18b6e528-e1af-41a0-9f04-909e24f1584b",
   "metadata": {
    "id": "18b6e528-e1af-41a0-9f04-909e24f1584b"
   },
   "outputs": [],
   "source": [
    "from llama_index.core import VectorStoreIndex\n",
    "from llama_index.core.query_engine import RetrieverQueryEngine\n",
    "\n",
    "base_index = VectorStoreIndex.from_documents(sub_docs, embed_model=embed_model)\n",
    "base_retriever = base_index.as_retriever(similarity_top_k=2)\n",
    "base_query_engine = RetrieverQueryEngine(base_retriever)"
   ]
  },
  {
   "cell_type": "code",
   "execution_count": 27,
   "id": "573bef31-0194-4532-b0b1-ea3e84e3890c",
   "metadata": {
    "id": "573bef31-0194-4532-b0b1-ea3e84e3890c",
    "outputId": "6491a34a-5c23-444e-fb68-395a44b81c93"
   },
   "outputs": [
    {
     "name": "stdout",
     "output_type": "stream",
     "text": [
      "The report is a foundation report for the Navy Overhead widening project, identified as EA#12-OH1004. It includes various sections detailing the purpose and scope of work, project description, and pertinent reports and investigations. The report outlines the field investigation and laboratory testing program, including exploratory borings, soil sampling, and cone penetration tests. It also covers site geology and subsurface conditions, regional geology, and groundwater information. Evaluations for scour, corrosion, and seismic recommendations are provided, including ground surface rupture, acceleration response spectrum, liquefaction evaluation, seismic slope stability, and lateral spreading. Additionally, it contains as-built foundation data and subsurface characterization. The document is identified by Aconex# PI405-RPT-GEO-000091, dated January 18, 2019, and is a revision by the 2018 OC 405 Partners.\n"
     ]
    }
   ],
   "source": [
    "response = base_query_engine.query(\n",
    "    \"Summarize the report\"\n",
    ")\n",
    "print(str(response))"
   ]
  },
  {
   "cell_type": "code",
   "execution_count": 29,
   "id": "58dee948-240c-4523-9be1-4f770f549a7a",
   "metadata": {
    "id": "58dee948-240c-4523-9be1-4f770f549a7a"
   },
   "outputs": [
    {
     "name": "stdout",
     "output_type": "stream",
     "text": [
      "2\n",
      "---\n",
      "FOUNDATION REPORT\n",
      "                                                                                   NAVY OVERHEAD (WIDEN)\n",
      "                                                                                                   EA#12-OH1004\n",
      "\n",
      " List of Figures\n",
      "\n",
      " Figure 1       Project Location Map\n",
      " Figure 2       Site Location Map\n",
      " Figure 3       Exploration Location Map\n",
      " Figure 4       Quaternary Geologic Map\n",
      " Figure 5       Regional Fault Map\n",
      " Figure 6a      Subsurface Cross Section “A-A”\n",
      " Figure 6b      Subsurface Cross Section “B-B”\n",
      " Figure 6c      Cross Section Key\n",
      " Figure 7a      ARS Curves – Non-Liquefied Case\n",
      " Figure 7b      ARS Curves – Liquefied Case\n",
      " Figure 8       Design ARS Curves\n",
      " Figure 9       Deaggregation for PGA and 975-Year Return Period\n",
      " Figure 10      Liquefaction Hazard Map\n",
      " Figure 11a Liquefaction Subsurface Profile A\n",
      " Figure 11b Liquefaction Subsurface Profile B\n",
      " Figure 12      Expansive Soil Exclusion Zone\n",
      "\n",
      "Aconex#: PI405-RPT-GEO-000091\n",
      "Document Date: 20190118                           Printed copies are uncontrolled\n",
      "Revision: 003                                        2018 OC 405 Partners\n",
      "---\n",
      "FOUNDATION REPORT\n",
      "                                                                                                                           NAVY OVERHEAD (WIDEN)\n",
      "                                                                                                                                               EA#12-OH1004\n",
      "\n",
      "                                                            TABLE OF CONTENTS\n",
      "                                                                                                                                                            Page\n",
      "       INTRODUCTION....................................................................................................................1\n",
      "              1.1      Purpose and Scope of Work........................................................................................1\n",
      "              1.2      Project Description .....................................................................................................1\n",
      "              1.3      Pertinent Reports and Investigations ..........................................................................2\n",
      "              1.4      Vertical and Horizontal Datum...................................................................................2\n",
      "              1.5      Exceptions to Policy ...................................................................................................3\n",
      "       FIELD INVESTIGATION AND LABORATORY TESTING PROGRAM .....................4\n",
      "              2.1      Investigations ..............................................................................................................4\n",
      "                2.1.1          Exploratory Borings ............................................................................................5\n",
      "                    2.1.1.1        Soil Sampling.................................................................................................. 5\n",
      "                    2.1.1.2        Field Classification ......................................................................................... 5\n",
      "                    2.1.1.3        Sample Handling, Transport, and Storage ...................................................... 6\n",
      "                    2.1.1.4        SPT Hammer Energy Measurement ............................................................... 6\n",
      "                2.1.2          Cone Penetration Tests ........................................................................................6\n",
      "                2.1.3          Boring and CPT Abandonment ...........................................................................6\n",
      "       LABORATORY TESTING PROGRAM ..............................................................................7\n",
      "       SITE GEOLOGY AND SUBSURFACE CONDITIONS.....................................................8\n",
      "              4.1      Regional Geology .......................................................................................................8\n",
      "              4.2      I-405 Improvement Project – Project Wide Geology and Subsurface\n",
      "                       Characterization ..........................................................................................................8\n",
      "              4.3      Bridge Site Condition .................................................................................................8\n",
      "              4.4      Groundwater ...............................................................................................................9\n",
      "       SCOUR EVALUATION .......................................................................................................10\n",
      "       CORROSION EVALUATION.............................................................................................11\n",
      "       SEISMIC RECOMMENDATIONS.....................................................................................12\n",
      "              7.1      Ground Surface Rupture ...........................................................................................12\n",
      "              7.2      Acceleration Response Spectrum (ARS)..................................................................12\n",
      "              7.3      Liquefaction Evaluation and Liquefaction Induced Settlements..............................14\n",
      "                7.3.1          Methodology......................................................................................................14\n",
      "                7.3.2          Results ...............................................................................................................15\n",
      "              7.4      Seismic Slope Stability .............................................................................................15\n",
      "              7.5      Lateral Spreading......................................................................................................15\n",
      "       AS-BUILT FOUNDATION DATA ......................................................................................17\n",
      "       SUBSURFACE CHARACTERIZATION...........................................................................18\n",
      "\n",
      "Aconex#: PI405-RPT-GEO-000091\n",
      "Document Date: 20190118                                           Printed copies are uncontrolled\n",
      "Revision: 003                                                          2018 OC 405 Partners                                                               Page i of vii\n"
     ]
    }
   ],
   "source": [
    "print(len(response.source_nodes))\n",
    "for node in response.source_nodes:\n",
    "    print(\"---\")\n",
    "    print(node.get_content())"
   ]
  },
  {
   "cell_type": "markdown",
   "id": "cfabc20e-bc8b-4e80-80ef-cfdee07a6e10",
   "metadata": {
    "id": "cfabc20e-bc8b-4e80-80ef-cfdee07a6e10"
   },
   "source": [
    "## Build Custom Retriever\n",
    "\n",
    "Build joint retriever that combines vector and KG search."
   ]
  },
  {
   "cell_type": "code",
   "execution_count": 24,
   "id": "ea75c09f-a0d1-48fe-b349-5e52ffe4df03",
   "metadata": {
    "id": "ea75c09f-a0d1-48fe-b349-5e52ffe4df03"
   },
   "outputs": [],
   "source": [
    "from llama_index.core.retrievers import BaseRetriever\n",
    "from llama_index.core.schema import NodeWithScore\n",
    "from typing import List\n",
    "\n",
    "\n",
    "class CustomRetriever(BaseRetriever):\n",
    "    \"\"\"Custom retriever that performs both KG vector search and direct vector search.\"\"\"\n",
    "\n",
    "    def __init__(self, kg_retriever):\n",
    "        self._kg_retriever = kg_retriever\n",
    "        # self._vector_retriever = vector_retriever\n",
    "\n",
    "    def _retrieve(self, query_bundle) -> List[NodeWithScore]:\n",
    "        \"\"\"Retrieve nodes given query.\"\"\"\n",
    "        kg_nodes = self._kg_retriever.retrieve(query_bundle)\n",
    "        # vector_nodes = self._vector_retriever.retrieve(query_bundle)\n",
    "\n",
    "        unique_nodes = {n.node_id: n for n in kg_nodes}\n",
    "        # unique_nodes.update({n.node_id: n for n in vector_nodes})\n",
    "        return list(unique_nodes.values())"
   ]
  },
  {
   "cell_type": "code",
   "execution_count": 28,
   "id": "b3dae1e1-b3a3-4896-91e5-1de95ed32a0d",
   "metadata": {
    "id": "b3dae1e1-b3a3-4896-91e5-1de95ed32a0d"
   },
   "outputs": [],
   "source": [
    "custom_retriever1 = CustomRetriever(kg_retriever1)"
   ]
  },
  {
   "cell_type": "code",
   "execution_count": 30,
   "id": "acc47367-993a-47a0-8774-c684c343d118",
   "metadata": {},
   "outputs": [],
   "source": [
    "custom_retriever2 = CustomRetriever(kg_retriever2)"
   ]
  },
  {
   "cell_type": "code",
   "execution_count": 32,
   "id": "c6c71c51-32a5-4420-917c-6d42b33c2c64",
   "metadata": {
    "id": "c6c71c51-32a5-4420-917c-6d42b33c2c64"
   },
   "outputs": [],
   "source": [
    "nodes = custom_retriever1.retrieve(\n",
    "    \"LOG OF CPT-17-3902\"\n",
    ")\n",
    "# len(nodes)"
   ]
  },
  {
   "cell_type": "markdown",
   "id": "389f6d0c-12b2-45e3-916a-f521befd6b91",
   "metadata": {
    "id": "389f6d0c-12b2-45e3-916a-f521befd6b91"
   },
   "source": [
    "## Build Agent\n",
    "\n",
    "Now that we have the retriever, we can treat it as a RAG pipeline tool, and wrap it with an agent that can perform basic CoT reasoning and maintain conversation memory over time.\n"
   ]
  },
  {
   "cell_type": "code",
   "execution_count": 34,
   "id": "3f7e7854-5d4e-49b8-baaa-8ad1cba053a0",
   "metadata": {
    "id": "3f7e7854-5d4e-49b8-baaa-8ad1cba053a0"
   },
   "outputs": [],
   "source": [
    "from llama_index.core.tools import QueryEngineTool, ToolMetadata\n",
    "from llama_index.core.query_engine import RetrieverQueryEngine\n",
    "\n",
    "kg_query_engine1 = RetrieverQueryEngine(custom_retriever1)\n",
    "kg_query_tool1 = QueryEngineTool(\n",
    "    query_engine=kg_query_engine1,\n",
    "    metadata=ToolMetadata(\n",
    "        name=\"query_tool1\",\n",
    "        description=\"Provides information about the First Article.\",\n",
    "    ),\n",
    ")"
   ]
  },
  {
   "cell_type": "code",
   "execution_count": 36,
   "id": "17607f79-223a-43c9-a8db-8b0e0fa7cf2f",
   "metadata": {},
   "outputs": [],
   "source": [
    "from llama_index.core.tools import QueryEngineTool, ToolMetadata\n",
    "from llama_index.core.query_engine import RetrieverQueryEngine\n",
    "\n",
    "kg_query_engine2 = RetrieverQueryEngine(custom_retriever2)\n",
    "kg_query_tool2 = QueryEngineTool(\n",
    "    query_engine=kg_query_engine2,\n",
    "    metadata=ToolMetadata(\n",
    "        name=\"query_tool2\",\n",
    "        description=\"Provides information about the Second Article.\",\n",
    "    ),\n",
    ")"
   ]
  },
  {
   "cell_type": "code",
   "execution_count": 44,
   "id": "ec7e8a74-2e9a-4e20-91a7-d997160af829",
   "metadata": {
    "id": "ec7e8a74-2e9a-4e20-91a7-d997160af829"
   },
   "outputs": [],
   "source": [
    "from llama_index.core.agent import FunctionCallingAgentWorker\n",
    "from llama_index.core.tools import QueryEngineTool, ToolMetadata\n",
    "from llama_index.core.query_engine import RetrieverQueryEngine\n",
    "from llama_index.llms.openai import OpenAI\n",
    "\n",
    "# Initialize the LLM\n",
    "llm = OpenAI(\n",
    "    model=\"gpt-3.5-turbo\",\n",
    "    temperature=0.2,\n",
    ")\n",
    "\n",
    "# Define the system prompt for comparison\n",
    "COMPARISON_SYSTEM_PROMPT = \"\"\"You are an AI assistant specialized in analyzing and comparing articles. Your primary tasks are:\n",
    "1. Use two query tools to retrieve information from two different articles.\n",
    "2. Carefully analyze the retrieved information.\n",
    "3. Identify similarities and differences between the articles.\n",
    "4. Provide a detailed comparative analysis.\n",
    "\n",
    "When answering:\n",
    "- Retrieve relevant information from both articles separately.\n",
    "- Ensure responses are based on the specific content returned by the query tools.\n",
    "- Clearly highlight similarities and differences.\n",
    "- Organize the information in a way that makes the comparison easy to understand.\n",
    "\"\"\"\n",
    "\n",
    "# Function to create the comparison agent\n",
    "def create_comparison_agent(kg_query_tool1, kg_query_tool2, llm):\n",
    "    # Combine the two query tools\n",
    "    tools = [kg_query_tool1, kg_query_tool2]\n",
    "    \n",
    "    # Create an agent worker\n",
    "    agent_worker = FunctionCallingAgentWorker.from_tools(\n",
    "        tools=tools,\n",
    "        llm=llm,\n",
    "        verbose=True,\n",
    "        system_prompt=COMPARISON_SYSTEM_PROMPT,\n",
    "        # Allow parallel tool calls for improved efficiency\n",
    "        allow_parallel_tool_calls=True\n",
    "    )\n",
    "    \n",
    "    return agent_worker.as_agent()\n",
    "\n",
    "# Create an agent instance\n",
    "comparison_agent = create_comparison_agent(kg_query_tool1, kg_query_tool2, llm)\n"
   ]
  },
  {
   "cell_type": "markdown",
   "id": "d567f1e8-621d-4107-9e8f-75051c900ff3",
   "metadata": {
    "id": "d567f1e8-621d-4107-9e8f-75051c900ff3"
   },
   "source": [
    "## Try out Queries\n",
    "\n",
    "Now that the agent is setup, let's try out some queries."
   ]
  },
  {
   "cell_type": "code",
   "execution_count": 46,
   "id": "4ae3bac3-d7fb-4882-bda6-d4f69e353f51",
   "metadata": {},
   "outputs": [
    {
     "name": "stdout",
     "output_type": "stream",
     "text": [
      "Added user message to memory: Please analyze the key similarities and differences between these two articles, including:\n",
      "1. The main arguments presented in each article\n",
      "2. The key pieces of evidence used\n",
      "3. The conclusions drawn\n",
      "=== Calling Function ===\n",
      "Calling function: query_tool1 with args: {\"input\": \"main arguments, key evidence, conclusions\"}\n",
      "=== Function Output ===\n",
      "The main arguments presented in the text are related to the Standard Penetration Test (SPT) as a method for assessing soil strength, the importance of hammer efficiency in driving rods, and the use of N-values for design purposes. Key evidence includes details on how the SPT is conducted, the significance of energy measurements during testing, and the adjustments that can be made based on measured energy values. Additionally, the text discusses the use of equipment like the SPT Analyzer or Pile Driving Analyzer for measurements and analysis. The conclusions drawn emphasize the variability of energy in testing methods based on N-values and the importance of considering hammer efficiency for accurate design assessments.\n",
      "=== Calling Function ===\n",
      "Calling function: query_tool2 with args: {\"input\": \"main arguments, key evidence, conclusions\"}\n",
      "=== Function Output ===\n",
      "The foundation report presents analysis results related to settlement assessment for the 405 Project Improvement Navy Overhead (Widen) EA#12-OH1004. The report includes probabilistic analysis results and deterministic analysis results for primary fault sources within 10 kilometers. It presents design Acceleration Response Spectrum (ARS) curves and summarizes primary fault sources for ground shaking affecting the site. Additionally, nearby fault information is provided, detailing fault names, distances to the project site, faulting styles, maximum magnitudes, dip angles, depths to the top and bottom of faults, and slip rates. The report also includes deaggregation results for a probabilistic event, indicating a controlling moment magnitude of about 7. The main arguments revolve around the seismic hazard assessment and settlement assessment for the project site, supported by evidence such as ARS curves, fault information, and deaggregation results. The conclusions likely focus on the seismic risks posed by nearby faults and the implications for the foundation design and construction of the 405 Project.\n",
      "=== LLM Response ===\n",
      "### Article 1:\n",
      "- **Main Arguments:**\n",
      "  - The article discusses the Standard Penetration Test (SPT) as a method for evaluating soil strength.\n",
      "  - It emphasizes the importance of hammer efficiency in driving rods during testing.\n",
      "  - The use of N-values for design purposes is highlighted.\n",
      "- **Key Evidence:**\n",
      "  - Details on the procedure of conducting the SPT and the significance of energy measurements during testing are provided.\n",
      "  - The adjustments based on measured energy values are explained.\n",
      "  - Mention of equipment like the SPT Analyzer and Pile Driving Analyzer for measurements and analysis.\n",
      "- **Conclusions:**\n",
      "  - Emphasis on the variability of energy in testing methods based on N-values.\n",
      "  - Importance of considering hammer efficiency for accurate design assessments.\n",
      "\n",
      "### Article 2:\n",
      "- **Main Arguments:**\n",
      "  - Focus on settlement assessment for the 405 Project Improvement Navy Overhead (Widen) EA#12-OH1004.\n",
      "  - Analysis results include probabilistic and deterministic assessments for primary fault sources within 10 kilometers.\n",
      "  - Presentation of design Acceleration Response Spectrum (ARS) curves and summary of primary fault sources affecting the site.\n",
      "- **Key Evidence:**\n",
      "  - Detailed information on nearby fault characteristics like fault names, distances, faulting styles, magnitudes, dip angles, depths, and slip rates.\n",
      "  - Deaggregation results for a probabilistic event indicating a controlling moment magnitude of about 7.\n",
      "- **Conclusions:**\n",
      "  - Likely focus on seismic hazard assessment and settlement assessment for the project site.\n",
      "  - Implications of seismic risks from nearby faults on the foundation design and construction of the 405 Project.\n",
      "\n",
      "### Similarities:\n",
      "- Both articles present detailed analysis and evidence to support their arguments.\n",
      "- They both emphasize the importance of specific factors (hammer efficiency and seismic hazards) in their respective contexts.\n",
      "\n",
      "### Differences:\n",
      "- Article 1 focuses on soil strength assessment using the SPT method, while Article 2 centers on settlement assessment and seismic hazard analysis.\n",
      "- The key pieces of evidence differ significantly, with Article 1 discussing energy measurements and equipment, while Article 2 provides fault information and deaggregation results.\n",
      "### Article 1:\n",
      "- **Main Arguments:**\n",
      "  - The article discusses the Standard Penetration Test (SPT) as a method for evaluating soil strength.\n",
      "  - It emphasizes the importance of hammer efficiency in driving rods during testing.\n",
      "  - The use of N-values for design purposes is highlighted.\n",
      "- **Key Evidence:**\n",
      "  - Details on the procedure of conducting the SPT and the significance of energy measurements during testing are provided.\n",
      "  - The adjustments based on measured energy values are explained.\n",
      "  - Mention of equipment like the SPT Analyzer and Pile Driving Analyzer for measurements and analysis.\n",
      "- **Conclusions:**\n",
      "  - Emphasis on the variability of energy in testing methods based on N-values.\n",
      "  - Importance of considering hammer efficiency for accurate design assessments.\n",
      "\n",
      "### Article 2:\n",
      "- **Main Arguments:**\n",
      "  - Focus on settlement assessment for the 405 Project Improvement Navy Overhead (Widen) EA#12-OH1004.\n",
      "  - Analysis results include probabilistic and deterministic assessments for primary fault sources within 10 kilometers.\n",
      "  - Presentation of design Acceleration Response Spectrum (ARS) curves and summary of primary fault sources affecting the site.\n",
      "- **Key Evidence:**\n",
      "  - Detailed information on nearby fault characteristics like fault names, distances, faulting styles, magnitudes, dip angles, depths, and slip rates.\n",
      "  - Deaggregation results for a probabilistic event indicating a controlling moment magnitude of about 7.\n",
      "- **Conclusions:**\n",
      "  - Likely focus on seismic hazard assessment and settlement assessment for the project site.\n",
      "  - Implications of seismic risks from nearby faults on the foundation design and construction of the 405 Project.\n",
      "\n",
      "### Similarities:\n",
      "- Both articles present detailed analysis and evidence to support their arguments.\n",
      "- They both emphasize the importance of specific factors (hammer efficiency and seismic hazards) in their respective contexts.\n",
      "\n",
      "### Differences:\n",
      "- Article 1 focuses on soil strength assessment using the SPT method, while Article 2 centers on settlement assessment and seismic hazard analysis.\n",
      "- The key pieces of evidence differ significantly, with Article 1 discussing energy measurements and equipment, while Article 2 provides fault information and deaggregation results.\n"
     ]
    }
   ],
   "source": [
    "# Example usage\n",
    "comparison_agent.reset()\n",
    "response = comparison_agent.chat(\n",
    "    \"Please analyze the key similarities and differences between these two articles, including:\\n\" +\n",
    "    \"1. The main arguments presented in each article\\n\" +\n",
    "    \"2. The key pieces of evidence used\\n\" +\n",
    "    \"3. The conclusions drawn\"\n",
    ")\n",
    "print(str(response))"
   ]
  },
  {
   "cell_type": "code",
   "execution_count": 233,
   "id": "2d0b3074-92bf-4e0e-84da-8c29d2eb3ac0",
   "metadata": {
    "id": "2d0b3074-92bf-4e0e-84da-8c29d2eb3ac0",
    "outputId": "1702b9cf-cfff-4975-f6df-9d3868b1149f"
   },
   "outputs": [
    {
     "name": "stdout",
     "output_type": "stream",
     "text": [
      "Added user message to memory: Based on the table data, please compare the potential seismic risk of the following two faults (Newport Inglewood Fault Zone and Anaheim Fault) to the project site. Please provide a detailed analysis based on their distance, maximum magnitude, and slip rate, and conclude which fault poses a higher seismic risk.\n",
      "=== LLM Response ===\n",
      "To compare the potential seismic risk of the Newport Inglewood Fault Zone and the Anaheim Fault to the project site, we will analyze three key factors: distance, maximum magnitude, and slip rate.\n",
      "\n",
      "### Newport Inglewood Fault Zone\n",
      "\n",
      "- **Distance**: 5.6 km\n",
      "  - This fault is very close to the project site, which increases the potential for strong ground shaking during an earthquake.\n",
      "\n",
      "- **Maximum Magnitude**: 7.2\n",
      "  - The fault is capable of producing a significant earthquake, which can result in substantial ground shaking and potential damage.\n",
      "\n",
      "- **Slip Rate**: 1.0 mm/yr\n",
      "  - A moderate slip rate suggests a relatively frequent movement along the fault, indicating a higher likelihood of seismic activity over time.\n",
      "\n",
      "### Anaheim Fault\n",
      "\n",
      "- **Distance**: 7.1 km\n",
      "  - This fault is also relatively close to the project site, though slightly further than the Newport Inglewood Fault Zone.\n",
      "\n",
      "- **Maximum Magnitude**: 6.4\n",
      "  - The potential maximum magnitude is lower than that of the Newport Inglewood Fault Zone, suggesting less potential for severe ground shaking.\n",
      "\n",
      "- **Slip Rate**: 0.1 mm/yr\n",
      "  - A low slip rate indicates less frequent movement along the fault, suggesting a lower likelihood of seismic activity compared to the Newport Inglewood Fault Zone.\n",
      "\n",
      "### Comparative Analysis\n",
      "\n",
      "1. **Proximity**: Both faults are close to the project site, but the Newport Inglewood Fault Zone is slightly closer, which can lead to stronger ground shaking.\n",
      "\n",
      "2. **Magnitude Potential**: The Newport Inglewood Fault Zone has a higher maximum magnitude potential (7.2) compared to the Anaheim Fault (6.4), indicating a greater potential for severe earthquakes.\n",
      "\n",
      "3. **Slip Rate**: The Newport Inglewood Fault Zone has a higher slip rate (1.0 mm/yr) compared to the Anaheim Fault (0.1 mm/yr), suggesting a higher likelihood of seismic activity.\n",
      "\n",
      "### Conclusion\n",
      "\n",
      "The Newport Inglewood Fault Zone poses a higher seismic risk to the project site compared to the Anaheim Fault. This conclusion is based on its closer proximity, higher potential maximum magnitude, and greater slip rate, all of which contribute to a higher likelihood of significant seismic events and stronger ground shaking at the project site.\n"
     ]
    }
   ],
   "source": [
    "response = agent.chat(\"Based on the table data, please compare the potential seismic risk of the following two faults (Newport Inglewood Fault Zone and Anaheim Fault) to the project site. Please provide a detailed analysis based on their distance, maximum magnitude, and slip rate, and conclude which fault poses a higher seismic risk.\")"
   ]
  },
  {
   "cell_type": "code",
   "execution_count": 235,
   "id": "f1d0c63e-817f-4615-a237-82d728917e4e",
   "metadata": {
    "id": "f1d0c63e-817f-4615-a237-82d728917e4e",
    "outputId": "b56e5fde-91e2-44c0-daa7-a9b3ef996f2b"
   },
   "outputs": [
    {
     "name": "stdout",
     "output_type": "stream",
     "text": [
      "To compare the potential seismic risk of the Newport Inglewood Fault Zone and the Anaheim Fault to the project site, we will analyze three key factors: distance, maximum magnitude, and slip rate.\n",
      "\n",
      "### Newport Inglewood Fault Zone\n",
      "\n",
      "- **Distance**: 5.6 km\n",
      "  - This fault is very close to the project site, which increases the potential for strong ground shaking during an earthquake.\n",
      "\n",
      "- **Maximum Magnitude**: 7.2\n",
      "  - The fault is capable of producing a significant earthquake, which can result in substantial ground shaking and potential damage.\n",
      "\n",
      "- **Slip Rate**: 1.0 mm/yr\n",
      "  - A moderate slip rate suggests a relatively frequent movement along the fault, indicating a higher likelihood of seismic activity over time.\n",
      "\n",
      "### Anaheim Fault\n",
      "\n",
      "- **Distance**: 7.1 km\n",
      "  - This fault is also relatively close to the project site, though slightly further than the Newport Inglewood Fault Zone.\n",
      "\n",
      "- **Maximum Magnitude**: 6.4\n",
      "  - The potential maximum magnitude is lower than that of the Newport Inglewood Fault Zone, suggesting less potential for severe ground shaking.\n",
      "\n",
      "- **Slip Rate**: 0.1 mm/yr\n",
      "  - A low slip rate indicates less frequent movement along the fault, suggesting a lower likelihood of seismic activity compared to the Newport Inglewood Fault Zone.\n",
      "\n",
      "### Comparative Analysis\n",
      "\n",
      "1. **Proximity**: Both faults are close to the project site, but the Newport Inglewood Fault Zone is slightly closer, which can lead to stronger ground shaking.\n",
      "\n",
      "2. **Magnitude Potential**: The Newport Inglewood Fault Zone has a higher maximum magnitude potential (7.2) compared to the Anaheim Fault (6.4), indicating a greater potential for severe earthquakes.\n",
      "\n",
      "3. **Slip Rate**: The Newport Inglewood Fault Zone has a higher slip rate (1.0 mm/yr) compared to the Anaheim Fault (0.1 mm/yr), suggesting a higher likelihood of seismic activity.\n",
      "\n",
      "### Conclusion\n",
      "\n",
      "The Newport Inglewood Fault Zone poses a higher seismic risk to the project site compared to the Anaheim Fault. This conclusion is based on its closer proximity, higher potential maximum magnitude, and greater slip rate, all of which contribute to a higher likelihood of significant seismic events and stronger ground shaking at the project site.\n"
     ]
    }
   ],
   "source": [
    "print(str(response))"
   ]
  },
  {
   "cell_type": "code",
   "execution_count": 241,
   "id": "a7cb264f-70c8-4d02-a11b-2c8b8990af76",
   "metadata": {
    "id": "a7cb264f-70c8-4d02-a11b-2c8b8990af76",
    "outputId": "5e09fb45-bb10-40a6-a0db-51b6c10bc285"
   },
   "outputs": [
    {
     "name": "stdout",
     "output_type": "stream",
     "text": [
      "Added user message to memory: print the information in LOG OF CPT-17-3901\n",
      "=== Calling Function ===\n",
      "Calling function: query_tool with args: {\"input\": \"LOG OF CPT-17-3901\"}\n",
      "=== Function Output ===\n",
      "The context does not provide specific information about the log of CPT-17-3901.\n",
      "=== LLM Response ===\n",
      "I couldn't find any specific information about the \"LOG OF CPT-17-3901.\" If you have more details or another request, feel free to let me know!\n",
      "I couldn't find any specific information about the \"LOG OF CPT-17-3901.\" If you have more details or another request, feel free to let me know!\n"
     ]
    }
   ],
   "source": [
    "agent.reset()\n",
    "response = agent.chat(\n",
    "    \"print the information in LOG OF CPT-17-3901\"\n",
    ")\n",
    "print(str(response))"
   ]
  },
  {
   "cell_type": "code",
   "execution_count": 173,
   "id": "4ece9079-da9c-4573-b249-2cab9d71fddf",
   "metadata": {
    "id": "4ece9079-da9c-4573-b249-2cab9d71fddf",
    "outputId": "cb3f78dc-28b8-4bb3-e2ba-16833621ef2e"
   },
   "outputs": [
    {
     "name": "stdout",
     "output_type": "stream",
     "text": [
      "Here are some facts extracted from the provided text:\n",
      "\n",
      "New retaining wall -> Will be constructed on -> The side of the approach abutment\n",
      "\n",
      "FOUNDATION REPORT\n",
      "                                                                                              NAVY OVERHEAD (WIDEN)\n",
      "                                                                                                              EA#12-OH1004\n",
      "\n",
      " 10.4   Approach Embankment Earthwork\n",
      " 10.4.1     Staging and New Approach Fill\n",
      " New fill will be placed to widen and raise the existing approach embankments and convert slopes\n",
      " of the embankments into retaining walls. The subject bridge will be constructed in a single stage.\n",
      " Table 31, presents simplified depictions of the new fill areas for each abutment at each stage,\n",
      " located behind the abutments of the proposed new bridge. Also noted in Table 31, is when a new\n",
      " retaining wall will be constructed on the side of the approach abutment. Short, pile supported wing\n",
      " walls are also proposed at each abutment. Retaining walls RS964b, RS972A, RW957B, and\n",
      " RW977 to be constructed adjacent to the bridge are addressed in separate reports.\n",
      " Bridge abutments, if constructed prior to adjacent walls, should be preloaded according to Caltrans\n",
      " Standard Plan A62B for the area within 150 feet of the bridge abutment. At future walls, the\n",
      " preload will be sloped starting from the face of abutments and walls as steep as the material\n",
      " permits, which has been assumed to be roughly 1H:1V inclination for the purpose of our\n",
      " assessment.\n",
      " It is important to recognize that consolidation induced down drag loads on the piles have not been\n",
      " accounted for in this report. Consequently, pre-loading must occur prior to driving piles.\n",
      "\n",
      " 10.4.2     Settlement Assessment Methodology\n",
      " Settlement calculations were performed using the computer program Settle3D Version 4\n",
      " (Rocscience) for approach embankments at the bridge site. The selection of soil compressibility\n",
      " parameters is discussed in Section 9.1.4. Added loads from new fill were modeled as uniform\n",
      " pressures acting over polygonal or rectangular loading areas, with the width and length\n",
      " approximately representative of the footprint of new fill placed over existing ground surface.\n",
      " Based on review of plans and available test hole information, the proposed fill geometry and\n",
      " subsurface conditions are comparable at Abutment 1 and Abutment 4. Consequently, a single\n",
      " generalized settlement analysis was performed and is considered applicable to both abutments.\n",
      " Approximate fill area and the modeled fill heights and widths are presented in Table 31.\n",
      " A table summarizing the soil profiles and consolidation parameters used in the settlement\n",
      " analysis is presented in Appendix E1.\n",
      " Settlement is primarily controlled by the laterally continuous clay layers located between about\n",
      " El. 20 and 0. The settlement properties of these controlling clay layers were assessed through\n",
      " review of all available lab test results as discussed in Section 9.1.4. The settlement periods were\n",
      " assessed based on the characteristic drainage path of the fine-grained soil layers with thicknesses\n",
      " varying from about 2 to 10 feet. This characteristic drainage path contributes the majority of\n",
      " consolidation test results, was chosen to be on the order of 0.1 to 0.2 ft2/day, selected as the\n",
      "                                                                                                 significant settlement. The coefficient of consolidation, cv, assessed based on the review of\n",
      " typical value for the critical clay layers.\n",
      "\n",
      "Aconex#: PI405-RPT-GEO-000091\n",
      "Document Date: 20190118                            Printed copies are uncontrolled\n",
      "Revision: 003                                          2018 OC 405 Partners                                          Page 41 of 58\n"
     ]
    }
   ],
   "source": [
    "print(str(response.source_nodes[0].get_content()))"
   ]
  },
  {
   "cell_type": "code",
   "execution_count": 205,
   "id": "1a89f972-ab89-4106-894b-9a8060c9ce2c",
   "metadata": {},
   "outputs": [
    {
     "name": "stdout",
     "output_type": "stream",
     "text": [
      "Added user message to memory: in CONE PENETRATION TEST RECORD,as Depth increase ,how does the TIP BEARING change\n",
      "=== LLM Response ===\n",
      "In a Cone Penetration Test (CPT), the tip resistance (also known as tip bearing or cone resistance) typically changes with depth due to variations in soil type, density, and other geotechnical properties. Generally, as depth increases, the tip resistance may increase, indicating denser or more compact soil layers. However, this is not always the case, as the tip resistance can also decrease or remain constant depending on the soil stratigraphy and conditions encountered.\n",
      "\n",
      "Here are some typical scenarios:\n",
      "\n",
      "1. **Increase in Tip Resistance**: This is common when penetrating through loose surface layers into denser subsurface layers, such as transitioning from loose sand to dense sand or gravel.\n",
      "\n",
      "2. **Decrease in Tip Resistance**: This might occur when moving from a dense layer to a softer or more compressible layer, such as transitioning from dense sand to clay.\n",
      "\n",
      "3. **Constant Tip Resistance**: This can happen in homogeneous soil layers where the soil properties do not change significantly with depth.\n",
      "\n",
      "The specific changes in tip resistance with depth are used to interpret soil stratigraphy and assess geotechnical properties for engineering and construction purposes.\n",
      "In a Cone Penetration Test (CPT), the tip resistance (also known as tip bearing or cone resistance) typically changes with depth due to variations in soil type, density, and other geotechnical properties. Generally, as depth increases, the tip resistance may increase, indicating denser or more compact soil layers. However, this is not always the case, as the tip resistance can also decrease or remain constant depending on the soil stratigraphy and conditions encountered.\n",
      "\n",
      "Here are some typical scenarios:\n",
      "\n",
      "1. **Increase in Tip Resistance**: This is common when penetrating through loose surface layers into denser subsurface layers, such as transitioning from loose sand to dense sand or gravel.\n",
      "\n",
      "2. **Decrease in Tip Resistance**: This might occur when moving from a dense layer to a softer or more compressible layer, such as transitioning from dense sand to clay.\n",
      "\n",
      "3. **Constant Tip Resistance**: This can happen in homogeneous soil layers where the soil properties do not change significantly with depth.\n",
      "\n",
      "The specific changes in tip resistance with depth are used to interpret soil stratigraphy and assess geotechnical properties for engineering and construction purposes.\n"
     ]
    }
   ],
   "source": [
    "agent.reset()\n",
    "response = agent.chat(\n",
    "    # \"in the Liquefaction Triggering Assessment and Settlement Calculation Standard Penetration Tests on Navy OH ‐ Abutment 1,try to find out at which Elevation,the Results,FS is less than 2? and what does this mean?\"\n",
    "\n",
    "\"in CONE PENETRATION TEST RECORD,as Depth increase ,how does the TIP BEARING change\"\n",
    ")\n",
    "print(str(response))"
   ]
  },
  {
   "cell_type": "code",
   "execution_count": 51,
   "id": "8a704756-c892-46ac-b3d9-832d1941f8f3",
   "metadata": {},
   "outputs": [
    {
     "name": "stdout",
     "output_type": "stream",
     "text": [
      "Added user message to memory: What does the report identify as the most critical factor for ensuring global stability in Section 10.3?\n",
      "=== Calling Function ===\n",
      "Calling function: query_tool with args: {\"input\": \"most critical factor for ensuring global stability in Section 10.3\"}\n",
      "=== Function Output ===\n",
      "The most critical factor for ensuring global stability in Section 10.3 is meeting the required factors of safety of 1.5 for static loading and 1.1 for seismic loading.\n",
      "=== LLM Response ===\n",
      "The report identifies meeting the required factors of safety—1.5 for static loading and 1.1 for seismic loading—as the most critical factor for ensuring global stability in Section 10.3.\n"
     ]
    }
   ],
   "source": [
    "agent.reset()\n",
    "response = agent.chat(\n",
    "    \"What does the report identify as the most critical factor for ensuring global stability in Section 10.3?\"\n",
    ")\n"
   ]
  }
 ],
 "metadata": {
  "colab": {
   "provenance": []
  },
  "kernelspec": {
   "display_name": "Python 3 (ipykernel)",
   "language": "python",
   "name": "python3"
  },
  "language_info": {
   "codemirror_mode": {
    "name": "ipython",
    "version": 3
   },
   "file_extension": ".py",
   "mimetype": "text/x-python",
   "name": "python",
   "nbconvert_exporter": "python",
   "pygments_lexer": "ipython3",
   "version": "3.12.7"
  }
 },
 "nbformat": 4,
 "nbformat_minor": 5
}
